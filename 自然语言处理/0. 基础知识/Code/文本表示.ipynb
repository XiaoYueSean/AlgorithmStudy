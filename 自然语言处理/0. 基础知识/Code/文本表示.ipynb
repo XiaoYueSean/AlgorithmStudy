{
 "cells": [
  {
   "cell_type": "markdown",
   "metadata": {},
   "source": [
    "# 文本表示（word representation）\n",
    "## 离散表示\n",
    "### One-hot"
   ]
  },
  {
   "cell_type": "code",
   "execution_count": 91,
   "metadata": {
    "ExecuteTime": {
     "end_time": "2021-03-06T09:44:43.838474Z",
     "start_time": "2021-03-06T09:44:43.835833Z"
    }
   },
   "outputs": [],
   "source": [
    "from sklearn.preprocessing import OrdinalEncoder, OneHotEncoder\n",
    "import numpy as np"
   ]
  },
  {
   "cell_type": "code",
   "execution_count": 103,
   "metadata": {
    "ExecuteTime": {
     "end_time": "2021-03-06T13:17:24.610818Z",
     "start_time": "2021-03-06T13:17:24.602876Z"
    }
   },
   "outputs": [
    {
     "name": "stdout",
     "output_type": "stream",
     "text": [
      "Sean like badminton 的向量为:\n",
      "[[2. 0. 0.]]\n"
     ]
    },
    {
     "data": {
      "text/plain": [
       "[array(['I', 'Mom', 'Sean'], dtype=object),\n",
       " array(['like', 'likes', 'love'], dtype=object),\n",
       " array(['badminton', 'nlp', 'singing'], dtype=object)]"
      ]
     },
     "execution_count": 103,
     "metadata": {},
     "output_type": "execute_result"
    }
   ],
   "source": [
    "# OrdinalEncoder 顺序编码（扩展知识）\n",
    "Ordinal_enc = OrdinalEncoder() # 创建Ordinal 编码对象\n",
    "X = [['Sean', 'love', 'nlp'],['I', 'like', 'badminton'],['Mom', 'likes', 'singing']] # 数据\n",
    "Ordinal_enc.fit(X)\n",
    "Ordinal_array = Ordinal_enc.transform([['Sean', 'like', 'badminton']])\n",
    "print('Sean like badminton 的向量为:\\n{}'.format(Ordinal_array))\n",
    "Ordinal_enc.categories_"
   ]
  },
  {
   "cell_type": "code",
   "execution_count": 119,
   "metadata": {
    "ExecuteTime": {
     "end_time": "2021-03-06T13:25:12.919821Z",
     "start_time": "2021-03-06T13:25:12.913483Z"
    }
   },
   "outputs": [
    {
     "name": "stdout",
     "output_type": "stream",
     "text": [
      "[array(['I', 'Mom', 'Sean'], dtype=object), array(['like', 'love'], dtype=object), array(['Sean', 'badminton', 'nlp'], dtype=object)]\n",
      "Sean like badminton 的向量为:\n",
      "[[0. 0. 1. 1. 0. 0. 1. 0.]]\n"
     ]
    }
   ],
   "source": [
    "# OneHot 热独编码\n",
    "Onehot_enc = OneHotEncoder()\n",
    "X = [['Sean', 'love', 'nlp'],['I', 'like', 'badminton'],['Mom', 'love', 'Sean']] # 数据\n",
    "Onehot_enc.fit(X)\n",
    "print(Onehot_enc.categories_)\n",
    "Onehot_array = Onehot_enc.transform([['Sean', 'like', 'badminton']]).toarray()\n",
    "print('Sean like badminton 的向量为:\\n{}'.format(Onehot_array))"
   ]
  },
  {
   "cell_type": "code",
   "execution_count": 122,
   "metadata": {
    "ExecuteTime": {
     "end_time": "2021-03-06T13:28:33.466849Z",
     "start_time": "2021-03-06T13:28:33.450432Z"
    }
   },
   "outputs": [
    {
     "name": "stdout",
     "output_type": "stream",
     "text": [
      "[array(['I', 'Mom', 'Sean'], dtype=object), array(['like', 'love'], dtype=object), array(['Sean', 'badminton', 'nlp'], dtype=object)]\n"
     ]
    },
    {
     "ename": "ValueError",
     "evalue": "Found unknown categories ['money'] in column 2 during transform",
     "output_type": "error",
     "traceback": [
      "\u001b[0;31m---------------------------------------------------------------------------\u001b[0m",
      "\u001b[0;31mValueError\u001b[0m                                Traceback (most recent call last)",
      "\u001b[0;32m<ipython-input-122-9b7d1ddc449f>\u001b[0m in \u001b[0;36m<module>\u001b[0;34m\u001b[0m\n\u001b[1;32m      4\u001b[0m \u001b[0mOnehot_enc\u001b[0m\u001b[0;34m.\u001b[0m\u001b[0mfit\u001b[0m\u001b[0;34m(\u001b[0m\u001b[0mX\u001b[0m\u001b[0;34m)\u001b[0m\u001b[0;34m\u001b[0m\u001b[0;34m\u001b[0m\u001b[0m\n\u001b[1;32m      5\u001b[0m \u001b[0mprint\u001b[0m\u001b[0;34m(\u001b[0m\u001b[0mOnehot_enc\u001b[0m\u001b[0;34m.\u001b[0m\u001b[0mcategories_\u001b[0m\u001b[0;34m)\u001b[0m\u001b[0;34m\u001b[0m\u001b[0;34m\u001b[0m\u001b[0m\n\u001b[0;32m----> 6\u001b[0;31m \u001b[0mOnehot_array\u001b[0m \u001b[0;34m=\u001b[0m \u001b[0mOnehot_enc\u001b[0m\u001b[0;34m.\u001b[0m\u001b[0mtransform\u001b[0m\u001b[0;34m(\u001b[0m\u001b[0;34m[\u001b[0m\u001b[0;34m[\u001b[0m\u001b[0;34m'Sean'\u001b[0m\u001b[0;34m,\u001b[0m \u001b[0;34m'like'\u001b[0m\u001b[0;34m,\u001b[0m \u001b[0;34m'money'\u001b[0m\u001b[0;34m]\u001b[0m\u001b[0;34m]\u001b[0m\u001b[0;34m)\u001b[0m\u001b[0;34m.\u001b[0m\u001b[0mtoarray\u001b[0m\u001b[0;34m(\u001b[0m\u001b[0;34m)\u001b[0m\u001b[0;34m\u001b[0m\u001b[0;34m\u001b[0m\u001b[0m\n\u001b[0m\u001b[1;32m      7\u001b[0m \u001b[0mprint\u001b[0m\u001b[0;34m(\u001b[0m\u001b[0;34m'Sean like badminton 的向量为:\\n{}'\u001b[0m\u001b[0;34m.\u001b[0m\u001b[0mformat\u001b[0m\u001b[0;34m(\u001b[0m\u001b[0mOnehot_array\u001b[0m\u001b[0;34m)\u001b[0m\u001b[0;34m)\u001b[0m\u001b[0;34m\u001b[0m\u001b[0;34m\u001b[0m\u001b[0m\n",
      "\u001b[0;32m~/opt/anaconda3/lib/python3.7/site-packages/sklearn/preprocessing/_encoders.py\u001b[0m in \u001b[0;36mtransform\u001b[0;34m(self, X)\u001b[0m\n\u001b[1;32m    426\u001b[0m         \u001b[0mcheck_is_fitted\u001b[0m\u001b[0;34m(\u001b[0m\u001b[0mself\u001b[0m\u001b[0;34m)\u001b[0m\u001b[0;34m\u001b[0m\u001b[0;34m\u001b[0m\u001b[0m\n\u001b[1;32m    427\u001b[0m         \u001b[0;31m# validation of X happens in _check_X called by _transform\u001b[0m\u001b[0;34m\u001b[0m\u001b[0;34m\u001b[0m\u001b[0;34m\u001b[0m\u001b[0m\n\u001b[0;32m--> 428\u001b[0;31m         \u001b[0mX_int\u001b[0m\u001b[0;34m,\u001b[0m \u001b[0mX_mask\u001b[0m \u001b[0;34m=\u001b[0m \u001b[0mself\u001b[0m\u001b[0;34m.\u001b[0m\u001b[0m_transform\u001b[0m\u001b[0;34m(\u001b[0m\u001b[0mX\u001b[0m\u001b[0;34m,\u001b[0m \u001b[0mhandle_unknown\u001b[0m\u001b[0;34m=\u001b[0m\u001b[0mself\u001b[0m\u001b[0;34m.\u001b[0m\u001b[0mhandle_unknown\u001b[0m\u001b[0;34m)\u001b[0m\u001b[0;34m\u001b[0m\u001b[0;34m\u001b[0m\u001b[0m\n\u001b[0m\u001b[1;32m    429\u001b[0m \u001b[0;34m\u001b[0m\u001b[0m\n\u001b[1;32m    430\u001b[0m         \u001b[0mn_samples\u001b[0m\u001b[0;34m,\u001b[0m \u001b[0mn_features\u001b[0m \u001b[0;34m=\u001b[0m \u001b[0mX_int\u001b[0m\u001b[0;34m.\u001b[0m\u001b[0mshape\u001b[0m\u001b[0;34m\u001b[0m\u001b[0;34m\u001b[0m\u001b[0m\n",
      "\u001b[0;32m~/opt/anaconda3/lib/python3.7/site-packages/sklearn/preprocessing/_encoders.py\u001b[0m in \u001b[0;36m_transform\u001b[0;34m(self, X, handle_unknown)\u001b[0m\n\u001b[1;32m    122\u001b[0m                     msg = (\"Found unknown categories {0} in column {1}\"\n\u001b[1;32m    123\u001b[0m                            \" during transform\".format(diff, i))\n\u001b[0;32m--> 124\u001b[0;31m                     \u001b[0;32mraise\u001b[0m \u001b[0mValueError\u001b[0m\u001b[0;34m(\u001b[0m\u001b[0mmsg\u001b[0m\u001b[0;34m)\u001b[0m\u001b[0;34m\u001b[0m\u001b[0;34m\u001b[0m\u001b[0m\n\u001b[0m\u001b[1;32m    125\u001b[0m                 \u001b[0;32melse\u001b[0m\u001b[0;34m:\u001b[0m\u001b[0;34m\u001b[0m\u001b[0;34m\u001b[0m\u001b[0m\n\u001b[1;32m    126\u001b[0m                     \u001b[0;31m# Set the problematic rows to an acceptable value and\u001b[0m\u001b[0;34m\u001b[0m\u001b[0;34m\u001b[0m\u001b[0;34m\u001b[0m\u001b[0m\n",
      "\u001b[0;31mValueError\u001b[0m: Found unknown categories ['money'] in column 2 during transform"
     ]
    }
   ],
   "source": [
    "# OneHot 热独编码\n",
    "Onehot_enc = OneHotEncoder() # 不设置设置为ignore， 转化onehot向量时不会因为不存在的类型而报错\n",
    "X = [['Sean', 'love', 'nlp'],['I', 'like', 'badminton'],['Mom', 'love', 'Sean']] # 数据\n",
    "Onehot_enc.fit(X)\n",
    "print(Onehot_enc.categories_)\n",
    "Onehot_array = Onehot_enc.transform([['Sean', 'like', 'money']]).toarray()\n",
    "print('Sean like badminton 的向量为:\\n{}'.format(Onehot_array))"
   ]
  },
  {
   "cell_type": "code",
   "execution_count": 123,
   "metadata": {
    "ExecuteTime": {
     "end_time": "2021-03-06T13:28:49.848293Z",
     "start_time": "2021-03-06T13:28:49.841663Z"
    }
   },
   "outputs": [
    {
     "name": "stdout",
     "output_type": "stream",
     "text": [
      "[array(['I', 'Mom', 'Sean'], dtype=object), array(['like', 'love'], dtype=object), array(['Sean', 'badminton', 'nlp'], dtype=object)]\n",
      "Sean like badminton 的向量为:\n",
      "[[0. 0. 1. 1. 0. 0. 0. 0.]]\n"
     ]
    }
   ],
   "source": [
    "# OneHot 热独编码\n",
    "Onehot_enc = OneHotEncoder(handle_unknown='ignore') # 设置为ignore， 转化onehot向量时不会因为不存在的类型而报错\n",
    "X = [['Sean', 'love', 'nlp'],['I', 'like', 'badminton'],['Mom', 'love', 'Sean']] # 数据\n",
    "Onehot_enc.fit(X)\n",
    "print(Onehot_enc.categories_)\n",
    "Onehot_array = Onehot_enc.transform([['Sean', 'like', 'money']]).toarray()\n",
    "print('Sean like badminton 的向量为:\\n{}'.format(Onehot_array))"
   ]
  },
  {
   "cell_type": "markdown",
   "metadata": {},
   "source": [
    "### 词袋(Bag-of-Word)"
   ]
  },
  {
   "cell_type": "code",
   "execution_count": 196,
   "metadata": {
    "ExecuteTime": {
     "end_time": "2021-03-06T15:01:53.877540Z",
     "start_time": "2021-03-06T15:01:53.867943Z"
    },
    "scrolled": true
   },
   "outputs": [
    {
     "name": "stdout",
     "output_type": "stream",
     "text": [
      "{'sean': 4, 'love': 2, 'nlp': 3, 'like': 1, 'badminton': 0, 'you': 5}\n",
      "维度为 (3, 6)\n"
     ]
    },
    {
     "data": {
      "text/plain": [
       "array([[0, 0, 1, 1, 3, 0],\n",
       "       [1, 1, 0, 0, 1, 0],\n",
       "       [0, 0, 1, 0, 0, 1]])"
      ]
     },
     "execution_count": 196,
     "metadata": {},
     "output_type": "execute_result"
    }
   ],
   "source": [
    "from sklearn.feature_extraction.text import CountVectorizer\n",
    "# CountVectorizer 的作用是将文本文档转换为计数的稀疏矩阵\n",
    "\n",
    "# 下面是一个文本文档的列表\n",
    "text = [\"Sean Sean Sean love nlp\",\n",
    "     \"Sean like badminton\",\n",
    "     \"I love you\"]\n",
    "\n",
    "CountVec = CountVectorizer() # 实例化 CountVectorizer 类\n",
    "CountVec.fit(text) # 用fit()函数从一个或者多个中文档中建立索引\n",
    "print(CountVec.vocabulary_) # 查看索引结果\n",
    "\n",
    "X = CountVec.transform(text)\n",
    "print('维度为',X.shape)\n",
    "X.toarray()"
   ]
  },
  {
   "cell_type": "code",
   "execution_count": 227,
   "metadata": {
    "ExecuteTime": {
     "end_time": "2021-03-06T15:13:26.427992Z",
     "start_time": "2021-03-06T15:13:26.422308Z"
    }
   },
   "outputs": [
    {
     "data": {
      "text/plain": [
       "array([[0, 0, 1, 1, 3, 0],\n",
       "       [1, 1, 0, 0, 1, 0],\n",
       "       [0, 0, 1, 0, 0, 1]])"
      ]
     },
     "execution_count": 227,
     "metadata": {},
     "output_type": "execute_result"
    }
   ],
   "source": [
    "# attention!\n",
    "# fit_transform()函数可以学习词汇词典并返回文档术语矩阵\n",
    "# 可以省去先后调用fit() transform()两个函数\n",
    "text = [\"Sean Sean Sean love nlp\",\n",
    "     \"Sean like badminton\",\n",
    "     \"I love you\"]\n",
    "\n",
    "CountVec = CountVectorizer() # 实例化 CountVectorizer 类\n",
    "X = CountVec.fit_transform(text)\n",
    "X.toarray()"
   ]
  },
  {
   "cell_type": "markdown",
   "metadata": {},
   "source": [
    "### N-gram\n",
    "N-gram就是在词袋模型的基础上加入了基于字节的滑窗，得到每个长度为n组成的一个文字序列。  \n",
    "当N = 2时, 例句 `Sean like badminton I like you`为  \n",
    "[Sean like, like badminton, badminton I, I like, like you]\n",
    "\n",
    "N-gram可以通过调整`CountVectorizer()`里面的参数实现。"
   ]
  },
  {
   "cell_type": "code",
   "execution_count": 215,
   "metadata": {
    "ExecuteTime": {
     "end_time": "2021-03-06T15:11:19.934016Z",
     "start_time": "2021-03-06T15:11:19.926668Z"
    }
   },
   "outputs": [
    {
     "name": "stdout",
     "output_type": "stream",
     "text": [
      "{'sean sean': 5, 'sean love': 4, 'love nlp': 1, 'sean like': 3, 'like badminton': 0, 'love you': 2}\n",
      "维度为 (3, 6)\n"
     ]
    },
    {
     "data": {
      "text/plain": [
       "array([[0, 1, 0, 0, 1, 2],\n",
       "       [1, 0, 0, 1, 0, 0],\n",
       "       [0, 0, 1, 0, 0, 0]])"
      ]
     },
     "execution_count": 215,
     "metadata": {},
     "output_type": "execute_result"
    }
   ],
   "source": [
    "text = [\"Sean Sean Sean love nlp\",\n",
    "     \"Sean like badminton\",\n",
    "     \"I love you\"]\n",
    "\n",
    "CountVec = CountVectorizer(analyzer = 'word', ngram_range = (2,2)) # 实例化 CountVectorizer 类\n",
    "CountVec.fit(text) # 用fit()函数从一个或者多个中文档中建立索引\n",
    "print(CountVec.vocabulary_) # 查看索引结果\n",
    "\n",
    "X = CountVec.transform(text)\n",
    "print('维度为',X.shape)\n",
    "X.toarray()"
   ]
  },
  {
   "cell_type": "markdown",
   "metadata": {
    "ExecuteTime": {
     "end_time": "2021-03-06T14:40:42.983165Z",
     "start_time": "2021-03-06T14:40:42.981118Z"
    }
   },
   "source": [
    "### TF-Idf\n",
    "使用计算 tf-idf。tf 表示词频率，而 tf-idf 表示词频率乘以逆文档频率。这是信息检索中常用的一种术语权重方案，在文档分类中也得到了很好的应用。"
   ]
  },
  {
   "cell_type": "code",
   "execution_count": 243,
   "metadata": {
    "ExecuteTime": {
     "end_time": "2021-03-06T15:29:44.116184Z",
     "start_time": "2021-03-06T15:29:44.108912Z"
    }
   },
   "outputs": [
    {
     "name": "stdout",
     "output_type": "stream",
     "text": [
      "['badminton', 'like', 'love', 'nlp', 'sean', 'you']\n"
     ]
    },
    {
     "data": {
      "text/plain": [
       "array([[0.        , 0.        , 0.29199216, 0.3839346 , 0.87597648,\n",
       "        0.        ],\n",
       "       [0.62276601, 0.62276601, 0.        , 0.        , 0.4736296 ,\n",
       "        0.        ],\n",
       "       [0.        , 0.        , 0.60534851, 0.        , 0.        ,\n",
       "        0.79596054]])"
      ]
     },
     "execution_count": 243,
     "metadata": {},
     "output_type": "execute_result"
    }
   ],
   "source": [
    "from sklearn.feature_extraction.text import TfidfVectorizer\n",
    "\n",
    "TfidfVec = TfidfVectorizer() # 实例化 CountVectorizer 类\n",
    "Y = TfidfVec.fit_transform(text)\n",
    "print(TfidfVec.get_feature_names())\n",
    "Y.toarray()"
   ]
  },
  {
   "cell_type": "code",
   "execution_count": 244,
   "metadata": {
    "ExecuteTime": {
     "end_time": "2021-03-06T15:29:45.473381Z",
     "start_time": "2021-03-06T15:29:45.466144Z"
    }
   },
   "outputs": [
    {
     "data": {
      "text/plain": [
       "array([[0.        , 0.        , 0.29199216, 0.3839346 , 0.87597648,\n",
       "        0.        ],\n",
       "       [0.62276601, 0.62276601, 0.        , 0.        , 0.4736296 ,\n",
       "        0.        ],\n",
       "       [0.        , 0.        , 0.60534851, 0.        , 0.        ,\n",
       "        0.79596054]])"
      ]
     },
     "execution_count": 244,
     "metadata": {},
     "output_type": "execute_result"
    }
   ],
   "source": [
    "# TfidfVectorizer 函数等于 CountVectorizer +  TfidfTransformer 函数\n",
    "from sklearn.feature_extraction.text import TfidfTransformer\n",
    "\n",
    "CountVec = CountVectorizer() \n",
    "tfidf_transform = TfidfTransformer()\n",
    "X = CountVec.fit_transform(text)\n",
    "Y = tfidf_transform.fit_transform(X)\n",
    "Y.toarray()\n",
    "# it is same as TfiderVectorizer"
   ]
  },
  {
   "cell_type": "markdown",
   "metadata": {},
   "source": [
    "***小结***:  \n",
    "本质上来说，可以有以下几种组合  \n",
    "BOW, BOW + NGram, BOW + TFIDF, BOW + NGram + TFIDF  \n",
    "BoW(`Countvectorizer()`)   \n",
    "BOW + NGram (`Countvectorizer(ngram_range = (2,2)`)  \n",
    "BOW + TFIDF (`TfidfVectorizer()`)  \n",
    "BOW + NGram + TFIDF (`TfidfVectorizer(ngram_range = (2,2))`)  \n",
    "其实还可以再推进一步：BOW + NGram + TFIDF + SVD()  "
   ]
  },
  {
   "cell_type": "markdown",
   "metadata": {},
   "source": [
    "## 分布式表示"
   ]
  },
  {
   "cell_type": "code",
   "execution_count": null,
   "metadata": {},
   "outputs": [],
   "source": []
  }
 ],
 "metadata": {
  "kernelspec": {
   "display_name": "Python 3",
   "language": "python",
   "name": "python3"
  },
  "language_info": {
   "codemirror_mode": {
    "name": "ipython",
    "version": 3
   },
   "file_extension": ".py",
   "mimetype": "text/x-python",
   "name": "python",
   "nbconvert_exporter": "python",
   "pygments_lexer": "ipython3",
   "version": "3.7.6"
  },
  "toc": {
   "base_numbering": 1,
   "nav_menu": {},
   "number_sections": true,
   "sideBar": true,
   "skip_h1_title": false,
   "title_cell": "Table of Contents",
   "title_sidebar": "Contents",
   "toc_cell": false,
   "toc_position": {},
   "toc_section_display": true,
   "toc_window_display": false
  },
  "varInspector": {
   "cols": {
    "lenName": 16,
    "lenType": 16,
    "lenVar": 40
   },
   "kernels_config": {
    "python": {
     "delete_cmd_postfix": "",
     "delete_cmd_prefix": "del ",
     "library": "var_list.py",
     "varRefreshCmd": "print(var_dic_list())"
    },
    "r": {
     "delete_cmd_postfix": ") ",
     "delete_cmd_prefix": "rm(",
     "library": "var_list.r",
     "varRefreshCmd": "cat(var_dic_list()) "
    }
   },
   "types_to_exclude": [
    "module",
    "function",
    "builtin_function_or_method",
    "instance",
    "_Feature"
   ],
   "window_display": false
  }
 },
 "nbformat": 4,
 "nbformat_minor": 4
}
